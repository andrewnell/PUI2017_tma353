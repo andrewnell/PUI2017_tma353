{
 "cells": [
  {
   "cell_type": "code",
   "execution_count": 21,
   "metadata": {
    "collapsed": false
   },
   "outputs": [
    {
     "name": "stdout",
     "output_type": "stream",
     "text": [
      "/home/cusp/tma353/PUIdata\n"
     ]
    }
   ],
   "source": [
    "# Check environmental variable DFDATA exists points to data facility location /gws/open/NYCOpenData/nycopendata/data/.\n",
    "# Use pandas to read CSV file from DF into pandas dataframe. The CSV file has 2 numerical value columns.\n",
    "# Display top rows of the DF in notebook. This table rendered.\n",
    "# Remove all but 2 numerical values columns of your choice - use the drop method of dataframe, lab example\n",
    "# Display the reducted dataframe. This table rendered\n",
    "# Plot columns against the other in a scatter plot using the datafraome plot method, lab example. (usual rules for plotting apply, see Grading Guidelines and the instruction notebooks for HW1 Extra Credit, part 3, for more detailed hints on how to display your rendered plots, and the Lab2 and Class notebooks examples on how to use the dataframe plot modules. The plot must be rendered.\n",
    "\n",
    "from __future__ import division, print_function\n",
    "__author__ = 'tma CUSP 2017'\n",
    "import os\n",
    "import numpy as np\n",
    "from numpy.random import randn\n",
    "import pylab as pl\n",
    "import matplotlib.pyplot as plt\n",
    "%matplotlib inline\n",
    "\n",
    "import pandas as pd\n",
    "\n",
    "PUIdata = os.getenv(\"PUIDATA\") # get environmental variable DFDATA\n",
    "print (PUIdata) # /gws/open/NYCOpenData/nycopendata/data/"
   ]
  },
  {
   "cell_type": "code",
   "execution_count": 22,
   "metadata": {
    "collapsed": true
   },
   "outputs": [],
   "source": [
    "\n",
    "data = pd.read_csv('/projects/open/NYCOpenData/nycopendata/data/2pmt-skyq/1414245957/2pmt-skyq')\n",
    "# http://urbanprofiler.cloudapp.net/dataset/6r4h-c2y6/"
   ]
  },
  {
   "cell_type": "code",
   "execution_count": 23,
   "metadata": {
    "collapsed": false
   },
   "outputs": [
    {
     "data": {
      "text/html": [
       "<div>\n",
       "<table border=\"1\" class=\"dataframe\">\n",
       "  <thead>\n",
       "    <tr style=\"text-align: right;\">\n",
       "      <th></th>\n",
       "      <th>ZIP</th>\n",
       "      <th>Building type (service class)</th>\n",
       "      <th>Consumption (mlbs)</th>\n",
       "      <th>Consumption (Mg)</th>\n",
       "      <th>Utility/Data Source</th>\n",
       "    </tr>\n",
       "  </thead>\n",
       "  <tbody>\n",
       "    <tr>\n",
       "      <th>0</th>\n",
       "      <td>10001\\n(40.75025902143676, -73.99688630375988)</td>\n",
       "      <td>Commercial</td>\n",
       "      <td>13108</td>\n",
       "      <td>5946</td>\n",
       "      <td>ConEd</td>\n",
       "    </tr>\n",
       "    <tr>\n",
       "      <th>1</th>\n",
       "      <td>10001\\n(40.75025902143676, -73.99688630375988)</td>\n",
       "      <td>Commercial</td>\n",
       "      <td>177244</td>\n",
       "      <td>80397</td>\n",
       "      <td>ConEd</td>\n",
       "    </tr>\n",
       "    <tr>\n",
       "      <th>2</th>\n",
       "      <td>10001\\n(40.75025902143676, -73.99688630375988)</td>\n",
       "      <td>Large Residential</td>\n",
       "      <td>422902</td>\n",
       "      <td>191825</td>\n",
       "      <td>ConEd</td>\n",
       "    </tr>\n",
       "    <tr>\n",
       "      <th>3</th>\n",
       "      <td>10001\\n(40.75025902143676, -73.99688630375988)</td>\n",
       "      <td>Commercial</td>\n",
       "      <td>32974</td>\n",
       "      <td>14957</td>\n",
       "      <td>ConEd</td>\n",
       "    </tr>\n",
       "    <tr>\n",
       "      <th>4</th>\n",
       "      <td>10002\\n(40.71612146793143, -73.98583147024613)</td>\n",
       "      <td>Commercial</td>\n",
       "      <td>2962</td>\n",
       "      <td>1343</td>\n",
       "      <td>ConEd</td>\n",
       "    </tr>\n",
       "  </tbody>\n",
       "</table>\n",
       "</div>"
      ],
      "text/plain": [
       "                                              ZIP  \\\n",
       "0  10001\\n(40.75025902143676, -73.99688630375988)   \n",
       "1  10001\\n(40.75025902143676, -73.99688630375988)   \n",
       "2  10001\\n(40.75025902143676, -73.99688630375988)   \n",
       "3  10001\\n(40.75025902143676, -73.99688630375988)   \n",
       "4  10002\\n(40.71612146793143, -73.98583147024613)   \n",
       "\n",
       "  Building type (service class)   Consumption (mlbs)    Consumption (Mg)   \\\n",
       "0                    Commercial                 13108                5946   \n",
       "1                    Commercial                177244               80397   \n",
       "2             Large Residential                422902              191825   \n",
       "3                    Commercial                 32974               14957   \n",
       "4                    Commercial                  2962                1343   \n",
       "\n",
       "  Utility/Data Source  \n",
       "0               ConEd  \n",
       "1               ConEd  \n",
       "2               ConEd  \n",
       "3               ConEd  \n",
       "4               ConEd  "
      ]
     },
     "execution_count": 23,
     "metadata": {},
     "output_type": "execute_result"
    }
   ],
   "source": [
    "data.head()"
   ]
  },
  {
   "cell_type": "code",
   "execution_count": 24,
   "metadata": {
    "collapsed": false
   },
   "outputs": [],
   "source": [
    "data.drop(['ZIP', 'Building type (service class)', 'Utility/Data Source'], \n",
    "                axis=1, inplace=True)"
   ]
  },
  {
   "cell_type": "code",
   "execution_count": 25,
   "metadata": {
    "collapsed": false
   },
   "outputs": [
    {
     "data": {
      "text/html": [
       "<div>\n",
       "<table border=\"1\" class=\"dataframe\">\n",
       "  <thead>\n",
       "    <tr style=\"text-align: right;\">\n",
       "      <th></th>\n",
       "      <th>Consumption (mlbs)</th>\n",
       "      <th>Consumption (Mg)</th>\n",
       "    </tr>\n",
       "  </thead>\n",
       "  <tbody>\n",
       "    <tr>\n",
       "      <th>0</th>\n",
       "      <td>13108</td>\n",
       "      <td>5946</td>\n",
       "    </tr>\n",
       "    <tr>\n",
       "      <th>1</th>\n",
       "      <td>177244</td>\n",
       "      <td>80397</td>\n",
       "    </tr>\n",
       "    <tr>\n",
       "      <th>2</th>\n",
       "      <td>422902</td>\n",
       "      <td>191825</td>\n",
       "    </tr>\n",
       "    <tr>\n",
       "      <th>3</th>\n",
       "      <td>32974</td>\n",
       "      <td>14957</td>\n",
       "    </tr>\n",
       "    <tr>\n",
       "      <th>4</th>\n",
       "      <td>2962</td>\n",
       "      <td>1343</td>\n",
       "    </tr>\n",
       "  </tbody>\n",
       "</table>\n",
       "</div>"
      ],
      "text/plain": [
       "    Consumption (mlbs)    Consumption (Mg) \n",
       "0                 13108                5946\n",
       "1                177244               80397\n",
       "2                422902              191825\n",
       "3                 32974               14957\n",
       "4                  2962                1343"
      ]
     },
     "execution_count": 25,
     "metadata": {},
     "output_type": "execute_result"
    }
   ],
   "source": [
    "data.head()"
   ]
  },
  {
   "cell_type": "code",
   "execution_count": 26,
   "metadata": {
    "collapsed": false
   },
   "outputs": [
    {
     "data": {
      "text/plain": [
       "array([' Consumption (mlbs) ', ' Consumption (Mg) '], dtype=object)"
      ]
     },
     "execution_count": 26,
     "metadata": {},
     "output_type": "execute_result"
    }
   ],
   "source": [
    "data.columns.values"
   ]
  },
  {
   "cell_type": "code",
   "execution_count": 34,
   "metadata": {
    "collapsed": false
   },
   "outputs": [
    {
     "data": {
      "text/plain": [
       "<matplotlib.text.Text at 0x7fc2679e6990>"
      ]
     },
     "execution_count": 34,
     "metadata": {},
     "output_type": "execute_result"
    },
    {
     "data": {
      "image/png": "[encoded data removed]",
      "text/plain": [
       "<matplotlib.figure.Figure at 0x7fc267ac8890>"
      ]
     },
     "metadata": {},
     "output_type": "display_data"
    }
   ],
   "source": [
    "data.plot.scatter(x=' Consumption (mlbs) ',y=' Consumption (Mg) ')\n",
    "plt.title(\"Mayor's Office of Sustainabilty ConEd Steam\")\n",
    "# plt.xlabel(\"Thousand pounds steam\")\n",
    "# plt.ylabel(\"Mega grams (Mg)\")"
   ]
  },
  {
   "cell_type": "code",
   "execution_count": null,
   "metadata": {
    "collapsed": false,
    "scrolled": true
   },
   "outputs": [],
   "source": []
  },
  {
   "cell_type": "code",
   "execution_count": null,
   "metadata": {
    "collapsed": true
   },
   "outputs": [],
   "source": []
  }
 ],
 "metadata": {
  "kernelspec": {
   "display_name": "PUI2016_Python2",
   "language": "python",
   "name": "pui2016_python2"
  },
  "language_info": {
   "codemirror_mode": {
    "name": "ipython",
    "version": 2
   },
   "file_extension": ".py",
   "mimetype": "text/x-python",
   "name": "python",
   "nbconvert_exporter": "python",
   "pygments_lexer": "ipython2",
   "version": "2.7.12"
  }
 },
 "nbformat": 4,
 "nbformat_minor": 0
}
